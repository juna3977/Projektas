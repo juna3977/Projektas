{
 "cells": [
  {
   "cell_type": "code",
   "execution_count": 1,
   "metadata": {},
   "outputs": [],
   "source": [
    "import numpy as np\n",
    "import pandas as pd\n",
    "import matplotlib.pyplot as plt\n",
    "from sklearn.tree import DecisionTreeClassifier, export_graphviz\n",
    "from sklearn.ensemble import BaggingClassifier\n",
    "#from graphviz import Source   # Install it using: conda install -c conda-forge python-graphviz\n",
    "from IPython.display import display, SVG\n",
    "\n",
    "from sklearn.metrics import accuracy_score\n",
    "from sklearn.metrics import classification_report,confusion_matrix\n",
    "from sklearn.ensemble import RandomForestClassifier\n",
    "from sklearn.model_selection import train_test_split\n",
    "import seaborn as sns\n"
   ]
  },
  {
   "cell_type": "code",
   "execution_count": 2,
   "metadata": {},
   "outputs": [],
   "source": [
    "# Įsikeliame duomenis\n",
    "liver_patient = pd.read_csv(\"duomenys/Indian_Liver_Patient.csv\")\n",
    "liver_patient.head()\n",
    "\n",
    "#Pervadiname stulpelį dataset į liver_disease\n",
    "liver_patient.rename(columns={'Dataset': 'Liver_Disease'}, inplace=True)\n",
    "# Persikoduojame stulpelį lytis (Female=0 and Male = 1).\n",
    "liver_patient['Gender'] = liver_patient['Gender'].apply(lambda x: 1 if x =='Male' else 0)\n",
    "\n",
    "# Užpildome praleistas reikšmes vidurkiu \n",
    "liver_patient['Albumin_and_Globulin_Ratio'].mean()\n",
    "liver_patient=liver_patient.fillna(0.94)\n"
   ]
  },
  {
   "cell_type": "code",
   "execution_count": 4,
   "metadata": {},
   "outputs": [
    {
     "data": {
      "text/plain": [
       "Liver_Disease\n",
       "1    416\n",
       "2    167\n",
       "dtype: int64"
      ]
     },
     "execution_count": 4,
     "metadata": {},
     "output_type": "execute_result"
    }
   ],
   "source": [
    "liver_patient.shape # Duomenų lentelėje yra 583 stebėjimai ir 11 kintamųjų.\n",
    "\n",
    "# Pasižiūrime, kiek kiekvienoje grupėje yra stebėjimų.\n",
    "liver_patient.groupby('Liver_Disease').size()\n",
    "\n",
    "# Gauname, kad sergančių yra 416, o nesergančių 167 asmenys( 0 - not diseased 1- diseased)."
   ]
  },
  {
   "cell_type": "markdown",
   "metadata": {},
   "source": [
    "# RANDOM FOREST"
   ]
  },
  {
   "cell_type": "code",
   "execution_count": 4,
   "metadata": {},
   "outputs": [],
   "source": [
    "# The first way\n",
    "# Train/test mask\n",
    "#np.random.seed(42)\n",
    "\n",
    "#mask = np.random.random(liver_patient.shape[0]) < 0.7\n",
    "\n",
    "#liver_patient.head()"
   ]
  },
  {
   "cell_type": "code",
   "execution_count": 5,
   "metadata": {},
   "outputs": [],
   "source": [
    "#from sklearn.ensemble import RandomForestClassifier"
   ]
  },
  {
   "cell_type": "code",
   "execution_count": 6,
   "metadata": {},
   "outputs": [],
   "source": [
    "# rf= RandomForestClassifier(n_estimators = 100)"
   ]
  },
  {
   "cell_type": "code",
   "execution_count": 7,
   "metadata": {},
   "outputs": [],
   "source": [
    "#rf.fit(liver_patient[mask].drop('Liver_Disease', axis=1), liver_patient[mask]['Liver_Disease'])"
   ]
  },
  {
   "cell_type": "code",
   "execution_count": 8,
   "metadata": {},
   "outputs": [],
   "source": [
    "#pred = rf.predict(liver_patient[~mask].drop('Liver_Disease', axis=1))"
   ]
  },
  {
   "cell_type": "code",
   "execution_count": 9,
   "metadata": {},
   "outputs": [],
   "source": [
    "#acc = np.mean(pred == liver_patient[~mask]['Liver_Disease'])\n",
    "#print(f'Accuracy {acc:.02%}')"
   ]
  },
  {
   "cell_type": "markdown",
   "metadata": {},
   "source": [
    "# Pirmas modelis"
   ]
  },
  {
   "cell_type": "code",
   "execution_count": 16,
   "metadata": {},
   "outputs": [
    {
     "name": "stdout",
     "output_type": "stream",
     "text": [
      "(408, 10) (408, 1) (175, 10) (175, 1)\n"
     ]
    }
   ],
   "source": [
    "\n",
    "# prepare train and test set\n",
    "#Apibrėžiame X ir y.\n",
    "X = liver_patient[['Age', 'Total_Bilirubin', 'Direct_Bilirubin', 'Alkaline_Phosphotase',\n",
    "        'Alamine_Aminotransferase', 'Aspartate_Aminotransferase', 'Total_Protiens', \n",
    "        'Albumin', 'Albumin_and_Globulin_Ratio','Gender']]\n",
    "y = liver_patient[['Liver_Disease']]\n",
    "\n",
    "\n",
    "#Duomenų rinkinį padaliname į 75% mokymo duomenų ir 25% bandymo duomenų.\n",
    "X_train, X_test, y_train, y_test = train_test_split(X, y, test_size=0.3, stratify=y)\n",
    "print (X_train.shape, y_train.shape, X_test.shape, y_test.shape)"
   ]
  },
  {
   "cell_type": "code",
   "execution_count": 17,
   "metadata": {},
   "outputs": [
    {
     "name": "stderr",
     "output_type": "stream",
     "text": [
      "C:\\Users\\Vitalija\\Anaconda3\\lib\\site-packages\\ipykernel_launcher.py:3: DataConversionWarning: A column-vector y was passed when a 1d array was expected. Please change the shape of y to (n_samples,), for example using ravel().\n",
      "  This is separate from the ipykernel package so we can avoid doing imports until\n"
     ]
    },
    {
     "name": "stdout",
     "output_type": "stream",
     "text": [
      "Random Forest Score:  100.0\n",
      "Random Forest Test Score:  73.71\n",
      "Accuracy:  0.7371428571428571\n",
      "\n",
      "Classification report: \n",
      "               precision    recall  f1-score   support\n",
      "\n",
      "           1       0.77      0.91      0.83       125\n",
      "           2       0.58      0.30      0.39        50\n",
      "\n",
      "    accuracy                           0.74       175\n",
      "   macro avg       0.67      0.61      0.61       175\n",
      "weighted avg       0.71      0.74      0.71       175\n",
      "\n",
      "Confusion Matrix:\n",
      "      0   1\n",
      "0  114  11\n",
      "1   35  15\n"
     ]
    },
    {
     "data": {
      "image/png": "[encoded data removed]",
      "text/plain": [
       "<Figure size 432x288 with 2 Axes>"
      ]
     },
     "metadata": {
      "needs_background": "light"
     },
     "output_type": "display_data"
    }
   ],
   "source": [
    "#np.random.seed(150)\n",
    "rf = RandomForestClassifier(n_estimators=100, random_state=150)\n",
    "rf.fit(X_train, y_train)\n",
    "rf_predicted = rf.predict(X_test)\n",
    "\n",
    "random_forest_score      = round(rf.score(X_train, y_train) * 100, 2)\n",
    "random_forest_score_test = round(rf.score(X_test, y_test) * 100, 2)\n",
    "\n",
    "\n",
    "print('Random Forest Score: ', random_forest_score)\n",
    "print('Random Forest Test Score: ', random_forest_score_test)\n",
    "#Apskaičiuojame savo modelio tikslumą.\n",
    "print('Accuracy: ', accuracy_score(y_test,rf_predicted))\n",
    "print('\\nClassification report: \\n', classification_report(y_test,rf_predicted))\n",
    "#Suskaičiuojame Confusion matricą.\n",
    "cm=pd.DataFrame(confusion_matrix(y_test,rf_predicted))\n",
    "print(\"Confusion Matrix:\\n\", cm)\n",
    "\n",
    "\n",
    "g = sns.heatmap(confusion_matrix(y_test,rf_predicted), annot=True, fmt=\"d\")"
   ]
  },
  {
   "cell_type": "markdown",
   "metadata": {},
   "source": [
    "# Feature importance"
   ]
  },
  {
   "cell_type": "code",
   "execution_count": 18,
   "metadata": {},
   "outputs": [
    {
     "data": {
      "text/html": [
       "<div>\n",
       "<style scoped>\n",
       "    .dataframe tbody tr th:only-of-type {\n",
       "        vertical-align: middle;\n",
       "    }\n",
       "\n",
       "    .dataframe tbody tr th {\n",
       "        vertical-align: top;\n",
       "    }\n",
       "\n",
       "    .dataframe thead th {\n",
       "        text-align: right;\n",
       "    }\n",
       "</style>\n",
       "<table border=\"1\" class=\"dataframe\">\n",
       "  <thead>\n",
       "    <tr style=\"text-align: right;\">\n",
       "      <th></th>\n",
       "      <th>0</th>\n",
       "    </tr>\n",
       "  </thead>\n",
       "  <tbody>\n",
       "    <tr>\n",
       "      <td>Age</td>\n",
       "      <td>0.137464</td>\n",
       "    </tr>\n",
       "    <tr>\n",
       "      <td>Gender</td>\n",
       "      <td>0.090845</td>\n",
       "    </tr>\n",
       "    <tr>\n",
       "      <td>Total_Bilirubin</td>\n",
       "      <td>0.076405</td>\n",
       "    </tr>\n",
       "    <tr>\n",
       "      <td>Direct_Bilirubin</td>\n",
       "      <td>0.155201</td>\n",
       "    </tr>\n",
       "    <tr>\n",
       "      <td>Alkaline_Phosphotase</td>\n",
       "      <td>0.125745</td>\n",
       "    </tr>\n",
       "    <tr>\n",
       "      <td>Alamine_Aminotransferase</td>\n",
       "      <td>0.139214</td>\n",
       "    </tr>\n",
       "    <tr>\n",
       "      <td>Aspartate_Aminotransferase</td>\n",
       "      <td>0.093534</td>\n",
       "    </tr>\n",
       "    <tr>\n",
       "      <td>Total_Protiens</td>\n",
       "      <td>0.088306</td>\n",
       "    </tr>\n",
       "    <tr>\n",
       "      <td>Albumin</td>\n",
       "      <td>0.073186</td>\n",
       "    </tr>\n",
       "    <tr>\n",
       "      <td>Albumin_and_Globulin_Ratio</td>\n",
       "      <td>0.020099</td>\n",
       "    </tr>\n",
       "  </tbody>\n",
       "</table>\n",
       "</div>"
      ],
      "text/plain": [
       "                                   0\n",
       "Age                         0.137464\n",
       "Gender                      0.090845\n",
       "Total_Bilirubin             0.076405\n",
       "Direct_Bilirubin            0.155201\n",
       "Alkaline_Phosphotase        0.125745\n",
       "Alamine_Aminotransferase    0.139214\n",
       "Aspartate_Aminotransferase  0.093534\n",
       "Total_Protiens              0.088306\n",
       "Albumin                     0.073186\n",
       "Albumin_and_Globulin_Ratio  0.020099"
      ]
     },
     "execution_count": 18,
     "metadata": {},
     "output_type": "execute_result"
    }
   ],
   "source": [
    "# Atspausdiname kintamųjų reiškmingumo lentelę.\n",
    "pd.DataFrame(rf.feature_importances_,\n",
    "             index=liver_patient.drop('Liver_Disease', axis=1).columns)\n",
    "# Iš gautos lentelės matome, kad reikšmingiausias kintamasis yra Direct_Bilirubin, \n",
    "# o mažiausiai reikšmingas yra Albumin_and_Globulin_Ratio"
   ]
  },
  {
   "cell_type": "code",
   "execution_count": 19,
   "metadata": {
    "scrolled": true
   },
   "outputs": [
    {
     "data": {
      "text/plain": [
       "<matplotlib.axes._subplots.AxesSubplot at 0x24c75cb9888>"
      ]
     },
     "execution_count": 19,
     "metadata": {},
     "output_type": "execute_result"
    },
    {
     "data": {
      "image/png": "[encoded data removed]",
      "text/plain": [
       "<Figure size 1080x864 with 1 Axes>"
      ]
     },
     "metadata": {
      "needs_background": "light"
     },
     "output_type": "display_data"
    }
   ],
   "source": [
    "# Taip pat, nubraižome grafiką, kuris vizualiai atskleidžia, kurie kintamieji turi didžiausią\n",
    "#reikšmingumą,ir kurie mažiausią.\n",
    "variable_importance=pd.DataFrame(rf.feature_importances_,columns=['coeficient'],\n",
    "             index=liver_patient.drop('Liver_Disease', axis=1).columns)\n",
    "variable_importance.sort_values(by = [\"coeficient\"]).plot(kind='barh', figsize=(15,12))"
   ]
  },
  {
   "cell_type": "markdown",
   "metadata": {},
   "source": [
    "# Antras modelis (Pridėjus naujus stulpelius)"
   ]
  },
  {
   "cell_type": "code",
   "execution_count": 21,
   "metadata": {},
   "outputs": [
    {
     "data": {
      "text/html": [
       "<div>\n",
       "<style scoped>\n",
       "    .dataframe tbody tr th:only-of-type {\n",
       "        vertical-align: middle;\n",
       "    }\n",
       "\n",
       "    .dataframe tbody tr th {\n",
       "        vertical-align: top;\n",
       "    }\n",
       "\n",
       "    .dataframe thead th {\n",
       "        text-align: right;\n",
       "    }\n",
       "</style>\n",
       "<table border=\"1\" class=\"dataframe\">\n",
       "  <thead>\n",
       "    <tr style=\"text-align: right;\">\n",
       "      <th></th>\n",
       "      <th>Age</th>\n",
       "      <th>Gender</th>\n",
       "      <th>Total_Bilirubin</th>\n",
       "      <th>Direct_Bilirubin</th>\n",
       "      <th>Alkaline_Phosphotase</th>\n",
       "      <th>Alamine_Aminotransferase</th>\n",
       "      <th>Aspartate_Aminotransferase</th>\n",
       "      <th>Total_Protiens</th>\n",
       "      <th>Albumin</th>\n",
       "      <th>Albumin_and_Globulin_Ratio</th>\n",
       "      <th>Liver_Disease</th>\n",
       "      <th>Globulin</th>\n",
       "      <th>Indirect_Bilirubin</th>\n",
       "      <th>Protiens_Ratio</th>\n",
       "    </tr>\n",
       "  </thead>\n",
       "  <tbody>\n",
       "    <tr>\n",
       "      <td>0</td>\n",
       "      <td>65</td>\n",
       "      <td>0</td>\n",
       "      <td>0.7</td>\n",
       "      <td>0.1</td>\n",
       "      <td>187</td>\n",
       "      <td>16</td>\n",
       "      <td>18</td>\n",
       "      <td>6.8</td>\n",
       "      <td>3.3</td>\n",
       "      <td>0.90</td>\n",
       "      <td>1</td>\n",
       "      <td>3.666667</td>\n",
       "      <td>0.6</td>\n",
       "      <td>2.060606</td>\n",
       "    </tr>\n",
       "    <tr>\n",
       "      <td>1</td>\n",
       "      <td>62</td>\n",
       "      <td>1</td>\n",
       "      <td>10.9</td>\n",
       "      <td>5.5</td>\n",
       "      <td>699</td>\n",
       "      <td>64</td>\n",
       "      <td>100</td>\n",
       "      <td>7.5</td>\n",
       "      <td>3.2</td>\n",
       "      <td>0.74</td>\n",
       "      <td>1</td>\n",
       "      <td>4.324324</td>\n",
       "      <td>5.4</td>\n",
       "      <td>2.343750</td>\n",
       "    </tr>\n",
       "    <tr>\n",
       "      <td>2</td>\n",
       "      <td>62</td>\n",
       "      <td>1</td>\n",
       "      <td>7.3</td>\n",
       "      <td>4.1</td>\n",
       "      <td>490</td>\n",
       "      <td>60</td>\n",
       "      <td>68</td>\n",
       "      <td>7.0</td>\n",
       "      <td>3.3</td>\n",
       "      <td>0.89</td>\n",
       "      <td>1</td>\n",
       "      <td>3.707865</td>\n",
       "      <td>3.2</td>\n",
       "      <td>2.121212</td>\n",
       "    </tr>\n",
       "    <tr>\n",
       "      <td>3</td>\n",
       "      <td>58</td>\n",
       "      <td>1</td>\n",
       "      <td>1.0</td>\n",
       "      <td>0.4</td>\n",
       "      <td>182</td>\n",
       "      <td>14</td>\n",
       "      <td>20</td>\n",
       "      <td>6.8</td>\n",
       "      <td>3.4</td>\n",
       "      <td>1.00</td>\n",
       "      <td>1</td>\n",
       "      <td>3.400000</td>\n",
       "      <td>0.6</td>\n",
       "      <td>2.000000</td>\n",
       "    </tr>\n",
       "    <tr>\n",
       "      <td>4</td>\n",
       "      <td>72</td>\n",
       "      <td>1</td>\n",
       "      <td>3.9</td>\n",
       "      <td>2.0</td>\n",
       "      <td>195</td>\n",
       "      <td>27</td>\n",
       "      <td>59</td>\n",
       "      <td>7.3</td>\n",
       "      <td>2.4</td>\n",
       "      <td>0.40</td>\n",
       "      <td>1</td>\n",
       "      <td>6.000000</td>\n",
       "      <td>1.9</td>\n",
       "      <td>3.041667</td>\n",
       "    </tr>\n",
       "  </tbody>\n",
       "</table>\n",
       "</div>"
      ],
      "text/plain": [
       "   Age  Gender  Total_Bilirubin  Direct_Bilirubin  Alkaline_Phosphotase  \\\n",
       "0   65       0              0.7               0.1                   187   \n",
       "1   62       1             10.9               5.5                   699   \n",
       "2   62       1              7.3               4.1                   490   \n",
       "3   58       1              1.0               0.4                   182   \n",
       "4   72       1              3.9               2.0                   195   \n",
       "\n",
       "   Alamine_Aminotransferase  Aspartate_Aminotransferase  Total_Protiens  \\\n",
       "0                        16                          18             6.8   \n",
       "1                        64                         100             7.5   \n",
       "2                        60                          68             7.0   \n",
       "3                        14                          20             6.8   \n",
       "4                        27                          59             7.3   \n",
       "\n",
       "   Albumin  Albumin_and_Globulin_Ratio  Liver_Disease  Globulin  \\\n",
       "0      3.3                        0.90              1  3.666667   \n",
       "1      3.2                        0.74              1  4.324324   \n",
       "2      3.3                        0.89              1  3.707865   \n",
       "3      3.4                        1.00              1  3.400000   \n",
       "4      2.4                        0.40              1  6.000000   \n",
       "\n",
       "   Indirect_Bilirubin  Protiens_Ratio  \n",
       "0                 0.6        2.060606  \n",
       "1                 5.4        2.343750  \n",
       "2                 3.2        2.121212  \n",
       "3                 0.6        2.000000  \n",
       "4                 1.9        3.041667  "
      ]
     },
     "execution_count": 21,
     "metadata": {},
     "output_type": "execute_result"
    }
   ],
   "source": [
    "#Apsiskaičiuojame Globuliną\n",
    "liver_patient['Globulin'] = liver_patient['Albumin'] / liver_patient['Albumin_and_Globulin_Ratio']\n",
    "\n",
    "#Susiskaičiuojam netiesioginį bilirubiną (nekonjuguotas) (jis lygus iš bendro atėmus tiesioginį)\n",
    "liver_patient['Indirect_Bilirubin'] = liver_patient['Total_Bilirubin'] - liver_patient['Direct_Bilirubin']\n",
    "liver_patient['Protiens_Ratio'] = liver_patient['Total_Protiens'] / liver_patient['Albumin']\n",
    "\n",
    "liver_patient.head()"
   ]
  },
  {
   "cell_type": "code",
   "execution_count": 22,
   "metadata": {},
   "outputs": [
    {
     "name": "stdout",
     "output_type": "stream",
     "text": [
      "(408, 13) (408, 1) (175, 13) (175, 1)\n"
     ]
    }
   ],
   "source": [
    "\n",
    "# prepare train and test set\n",
    "\n",
    "\n",
    "X = liver_patient[['Age', 'Total_Bilirubin', 'Direct_Bilirubin', 'Alkaline_Phosphotase',\n",
    "        'Alamine_Aminotransferase', 'Aspartate_Aminotransferase', 'Total_Protiens', \n",
    "        'Albumin', 'Albumin_and_Globulin_Ratio','Gender','Globulin','Indirect_Bilirubin','Protiens_Ratio']]\n",
    "y = liver_patient[['Liver_Disease']]\n",
    "\n",
    "X_train, X_test, y_train, y_test = train_test_split(X, y, test_size=0.3, stratify=y)\n",
    "print (X_train.shape, y_train.shape, X_test.shape, y_test.shape)"
   ]
  },
  {
   "cell_type": "code",
   "execution_count": 23,
   "metadata": {
    "scrolled": true
   },
   "outputs": [
    {
     "name": "stderr",
     "output_type": "stream",
     "text": [
      "C:\\Users\\Vitalija\\Anaconda3\\lib\\site-packages\\ipykernel_launcher.py:3: DataConversionWarning: A column-vector y was passed when a 1d array was expected. Please change the shape of y to (n_samples,), for example using ravel().\n",
      "  This is separate from the ipykernel package so we can avoid doing imports until\n"
     ]
    },
    {
     "name": "stdout",
     "output_type": "stream",
     "text": [
      "Random Forest Score:  100.0\n",
      "Random Forest Test Score:  72.57\n",
      "Accuracy:  0.7257142857142858\n",
      "\n",
      "Classification report: \n",
      "               precision    recall  f1-score   support\n",
      "\n",
      "           1       0.77      0.87      0.82       125\n",
      "           2       0.53      0.36      0.43        50\n",
      "\n",
      "    accuracy                           0.73       175\n",
      "   macro avg       0.65      0.62      0.62       175\n",
      "weighted avg       0.70      0.73      0.71       175\n",
      "\n",
      "Confusion Matrix:\n",
      "      0   1\n",
      "0  109  16\n",
      "1   32  18\n"
     ]
    },
    {
     "data": {
      "image/png": "[encoded data removed]",
      "text/plain": [
       "<Figure size 432x288 with 2 Axes>"
      ]
     },
     "metadata": {
      "needs_background": "light"
     },
     "output_type": "display_data"
    }
   ],
   "source": [
    "#np.random.seed(150)\n",
    "rf = RandomForestClassifier(n_estimators=100, random_state=150)\n",
    "rf.fit(X_train, y_train)\n",
    "rf_predicted = rf.predict(X_test)\n",
    "\n",
    "random_forest_score      = round(rf.score(X_train, y_train) * 100, 2)\n",
    "random_forest_score_test = round(rf.score(X_test, y_test) * 100, 2)\n",
    "\n",
    "\n",
    "print('Random Forest Score: ', random_forest_score)\n",
    "print('Random Forest Test Score: ', random_forest_score_test)\n",
    "print('Accuracy: ', accuracy_score(y_test,rf_predicted))\n",
    "print('\\nClassification report: \\n', classification_report(y_test,rf_predicted))\n",
    "cm=pd.DataFrame(confusion_matrix(y_test,rf_predicted))\n",
    "print(\"Confusion Matrix:\\n\", cm)\n",
    "\n",
    "\n",
    "g = sns.heatmap(confusion_matrix(y_test,rf_predicted), annot=True, fmt=\"d\")"
   ]
  },
  {
   "cell_type": "code",
   "execution_count": 24,
   "metadata": {
    "scrolled": true
   },
   "outputs": [
    {
     "data": {
      "text/html": [
       "<div>\n",
       "<style scoped>\n",
       "    .dataframe tbody tr th:only-of-type {\n",
       "        vertical-align: middle;\n",
       "    }\n",
       "\n",
       "    .dataframe tbody tr th {\n",
       "        vertical-align: top;\n",
       "    }\n",
       "\n",
       "    .dataframe thead th {\n",
       "        text-align: right;\n",
       "    }\n",
       "</style>\n",
       "<table border=\"1\" class=\"dataframe\">\n",
       "  <thead>\n",
       "    <tr style=\"text-align: right;\">\n",
       "      <th></th>\n",
       "      <th>0</th>\n",
       "    </tr>\n",
       "  </thead>\n",
       "  <tbody>\n",
       "    <tr>\n",
       "      <td>Age</td>\n",
       "      <td>0.092326</td>\n",
       "    </tr>\n",
       "    <tr>\n",
       "      <td>Gender</td>\n",
       "      <td>0.086348</td>\n",
       "    </tr>\n",
       "    <tr>\n",
       "      <td>Total_Bilirubin</td>\n",
       "      <td>0.060641</td>\n",
       "    </tr>\n",
       "    <tr>\n",
       "      <td>Direct_Bilirubin</td>\n",
       "      <td>0.114672</td>\n",
       "    </tr>\n",
       "    <tr>\n",
       "      <td>Alkaline_Phosphotase</td>\n",
       "      <td>0.097698</td>\n",
       "    </tr>\n",
       "    <tr>\n",
       "      <td>Alamine_Aminotransferase</td>\n",
       "      <td>0.107010</td>\n",
       "    </tr>\n",
       "    <tr>\n",
       "      <td>Aspartate_Aminotransferase</td>\n",
       "      <td>0.066478</td>\n",
       "    </tr>\n",
       "    <tr>\n",
       "      <td>Total_Protiens</td>\n",
       "      <td>0.067318</td>\n",
       "    </tr>\n",
       "    <tr>\n",
       "      <td>Albumin</td>\n",
       "      <td>0.057292</td>\n",
       "    </tr>\n",
       "    <tr>\n",
       "      <td>Albumin_and_Globulin_Ratio</td>\n",
       "      <td>0.013215</td>\n",
       "    </tr>\n",
       "    <tr>\n",
       "      <td>Globulin</td>\n",
       "      <td>0.086289</td>\n",
       "    </tr>\n",
       "    <tr>\n",
       "      <td>Indirect_Bilirubin</td>\n",
       "      <td>0.061355</td>\n",
       "    </tr>\n",
       "    <tr>\n",
       "      <td>Protiens_Ratio</td>\n",
       "      <td>0.089358</td>\n",
       "    </tr>\n",
       "  </tbody>\n",
       "</table>\n",
       "</div>"
      ],
      "text/plain": [
       "                                   0\n",
       "Age                         0.092326\n",
       "Gender                      0.086348\n",
       "Total_Bilirubin             0.060641\n",
       "Direct_Bilirubin            0.114672\n",
       "Alkaline_Phosphotase        0.097698\n",
       "Alamine_Aminotransferase    0.107010\n",
       "Aspartate_Aminotransferase  0.066478\n",
       "Total_Protiens              0.067318\n",
       "Albumin                     0.057292\n",
       "Albumin_and_Globulin_Ratio  0.013215\n",
       "Globulin                    0.086289\n",
       "Indirect_Bilirubin          0.061355\n",
       "Protiens_Ratio              0.089358"
      ]
     },
     "execution_count": 24,
     "metadata": {},
     "output_type": "execute_result"
    }
   ],
   "source": [
    "pd.DataFrame(rf.feature_importances_,\n",
    "             index=liver_patient.drop('Liver_Disease', axis=1).columns)"
   ]
  },
  {
   "cell_type": "code",
   "execution_count": 25,
   "metadata": {},
   "outputs": [
    {
     "data": {
      "text/plain": [
       "<matplotlib.axes._subplots.AxesSubplot at 0x24c75d52388>"
      ]
     },
     "execution_count": 25,
     "metadata": {},
     "output_type": "execute_result"
    },
    {
     "data": {
      "image/png": "[encoded data removed]",
      "text/plain": [
       "<Figure size 1080x864 with 1 Axes>"
      ]
     },
     "metadata": {
      "needs_background": "light"
     },
     "output_type": "display_data"
    }
   ],
   "source": [
    "variable_importance=pd.DataFrame(rf.feature_importances_,columns=['coeficient'],\n",
    "             index=liver_patient.drop('Liver_Disease', axis=1).columns)\n",
    "variable_importance.sort_values(by = [\"coeficient\"]).plot(kind='barh', figsize=(15,12))"
   ]
  },
  {
   "cell_type": "markdown",
   "metadata": {},
   "source": [
    "# Decision Trees"
   ]
  },
  {
   "cell_type": "code",
   "execution_count": 14,
   "metadata": {},
   "outputs": [
    {
     "data": {
      "text/plain": [
       "DecisionTreeClassifier(class_weight=None, criterion='gini', max_depth=None,\n",
       "                       max_features=None, max_leaf_nodes=None,\n",
       "                       min_impurity_decrease=0.0, min_impurity_split=None,\n",
       "                       min_samples_leaf=1, min_samples_split=2,\n",
       "                       min_weight_fraction_leaf=0.0, presort=False,\n",
       "                       random_state=None, splitter='best')"
      ]
     },
     "execution_count": 14,
     "metadata": {},
     "output_type": "execute_result"
    }
   ],
   "source": [
    "from sklearn.tree import DecisionTreeClassifier\n",
    "# Create decision tree object\n",
    "classifier = DecisionTreeClassifier()\n",
    "\n",
    "# Train the model using the training sets and check score\n",
    "classifier.fit(X_train,y_train)"
   ]
  },
  {
   "cell_type": "code",
   "execution_count": 15,
   "metadata": {},
   "outputs": [
    {
     "name": "stdout",
     "output_type": "stream",
     "text": [
      "Decision tree Score:  100.0\n",
      "Decision tree Test Score:  68.57\n",
      "Accuracy:  0.6228571428571429\n",
      "Confusion matrix\n",
      " [[94 31]\n",
      " [35 15]] \n",
      "\n",
      "Confusion matrix plot\n"
     ]
    },
    {
     "data": {
      "image/png": "[encoded data removed]",
      "text/plain": [
       "<Figure size 288x288 with 2 Axes>"
      ]
     },
     "metadata": {
      "needs_background": "light"
     },
     "output_type": "display_data"
    },
    {
     "name": "stdout",
     "output_type": "stream",
     "text": [
      "Classfication report:               precision    recall  f1-score   support\n",
      "\n",
      "           1       0.73      0.75      0.74       125\n",
      "           2       0.33      0.30      0.31        50\n",
      "\n",
      "    accuracy                           0.62       175\n",
      "   macro avg       0.53      0.53      0.53       175\n",
      "weighted avg       0.61      0.62      0.62       175\n",
      "\n"
     ]
    }
   ],
   "source": [
    "# Predict Output\n",
    "\n",
    "y_pred=classifier.predict(X_test)\n",
    "\n",
    "dt_score = round(classifier.score(X_train, y_train) * 100, 2)\n",
    "dt_test = round(classifier.score(X_test, y_test) * 100, 2)\n",
    "\n",
    "decision_tree_score      = round(rf.score(X_train, y_train) * 100, 2)\n",
    "decision_tree_score_test = round(rf.score(X_test, y_test) * 100, 2)\n",
    "\n",
    "print('Decision tree Score: ', decision_tree_score)\n",
    "print('Decision tree Test Score: ', decision_tree_score_test)\n",
    "print('Accuracy: ', accuracy_score(y_test,y_pred))\n",
    "\n",
    "c_m = confusion_matrix(y_test, y_pred)\n",
    "print (\"Confusion matrix\\n\", c_m,'\\n')\n",
    "ax=plt.matshow(c_m,cmap=plt.cm.GnBu)\n",
    "print('Confusion matrix plot')\n",
    "plt.colorbar(ax)\n",
    "plt.xlabel('Predicted')\n",
    "plt.ylabel('True')\n",
    "plt.show()\n",
    "\n",
    "\n",
    "print('Classfication report:',classification_report(y_test, y_pred)) \n"
   ]
  },
  {
   "cell_type": "code",
   "execution_count": null,
   "metadata": {},
   "outputs": [],
   "source": []
  },
  {
   "cell_type": "code",
   "execution_count": null,
   "metadata": {},
   "outputs": [],
   "source": []
  }
 ],
 "metadata": {
  "kernelspec": {
   "display_name": "Python 3",
   "language": "python",
   "name": "python3"
  },
  "language_info": {
   "codemirror_mode": {
    "name": "ipython",
    "version": 3
   },
   "file_extension": ".py",
   "mimetype": "text/x-python",
   "name": "python",
   "nbconvert_exporter": "python",
   "pygments_lexer": "ipython3",
   "version": "3.7.4"
  }
 },
 "nbformat": 4,
 "nbformat_minor": 2
}
