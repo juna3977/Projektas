{
 "cells": [
  {
   "cell_type": "code",
   "execution_count": 1,
   "metadata": {},
   "outputs": [],
   "source": [
    "import numpy as np\n",
    "import pandas as pd\n",
    "import matplotlib.pyplot as plt\n",
    "from sklearn.tree import DecisionTreeClassifier, export_graphviz\n",
    "from sklearn.ensemble import BaggingClassifier\n",
    "from graphviz import Source   # Install it using: conda install -c conda-forge python-graphviz\n",
    "from IPython.display import display, SVG\n",
    "\n",
    "from sklearn.metrics import accuracy_score\n",
    "from sklearn.metrics import classification_report,confusion_matrix\n",
    "from sklearn.ensemble import RandomForestClassifier\n",
    "from sklearn.model_selection import train_test_split\n",
    "import seaborn as sns\n"
   ]
  },
  {
   "cell_type": "code",
   "execution_count": 2,
   "metadata": {},
   "outputs": [],
   "source": [
    "# Load dataset\n",
    "liver_patient = pd.read_csv(\"duomenys/Indian_Liver_Patient.csv\")\n",
    "liver_patient.head()\n",
    "\n",
    "#pervadiname stulpelį dataset į liver_disease\n",
    "liver_patient.rename(columns={'Dataset': 'Liver_Disease'}, inplace=True)\n",
    "liver_patient['Gender'] = liver_patient['Gender'].apply(lambda x: 1 if x =='Male' else 0)\n",
    "#Female=0 and Male = 1\n",
    "liver_patient['Albumin_and_Globulin_Ratio'].mean()\n",
    "liver_patient=liver_patient.fillna(0.94)\n"
   ]
  },
  {
   "cell_type": "markdown",
   "metadata": {},
   "source": [
    "# Random Forest"
   ]
  },
  {
   "cell_type": "code",
   "execution_count": 3,
   "metadata": {},
   "outputs": [],
   "source": [
    "# The first way\n",
    "# Train/test mask\n",
    "#np.random.seed(42)\n",
    "\n",
    "#mask = np.random.random(liver_patient.shape[0]) < 0.7\n",
    "\n",
    "#liver_patient.head()"
   ]
  },
  {
   "cell_type": "code",
   "execution_count": 4,
   "metadata": {},
   "outputs": [],
   "source": [
    "#from sklearn.ensemble import RandomForestClassifier"
   ]
  },
  {
   "cell_type": "code",
   "execution_count": 5,
   "metadata": {},
   "outputs": [],
   "source": [
    "# rf= RandomForestClassifier(n_estimators = 100)"
   ]
  },
  {
   "cell_type": "code",
   "execution_count": 6,
   "metadata": {},
   "outputs": [],
   "source": [
    "#rf.fit(liver_patient[mask].drop('Liver_Disease', axis=1), liver_patient[mask]['Liver_Disease'])"
   ]
  },
  {
   "cell_type": "code",
   "execution_count": 7,
   "metadata": {},
   "outputs": [],
   "source": [
    "#pred = rf.predict(liver_patient[~mask].drop('Liver_Disease', axis=1))"
   ]
  },
  {
   "cell_type": "code",
   "execution_count": 8,
   "metadata": {},
   "outputs": [],
   "source": [
    "#acc = np.mean(pred == liver_patient[~mask]['Liver_Disease'])\n",
    "#print(f'Accuracy {acc:.02%}')"
   ]
  },
  {
   "cell_type": "code",
   "execution_count": 9,
   "metadata": {},
   "outputs": [
    {
     "name": "stdout",
     "output_type": "stream",
     "text": [
      "(408, 10) (408, 1) (175, 10) (175, 1)\n"
     ]
    }
   ],
   "source": [
    "#The second way\n",
    "# prepare train and test set\n",
    "\n",
    "\n",
    "X = liver_patient[['Age', 'Total_Bilirubin', 'Direct_Bilirubin', 'Alkaline_Phosphotase',\n",
    "        'Alamine_Aminotransferase', 'Aspartate_Aminotransferase', 'Total_Protiens', \n",
    "        'Albumin', 'Albumin_and_Globulin_Ratio','Gender']]\n",
    "y = liver_patient[['Liver_Disease']]\n",
    "\n",
    "X_train, X_test, y_train, y_test = train_test_split(X, y, test_size=0.3, stratify=y)\n",
    "print (X_train.shape, y_train.shape, X_test.shape, y_test.shape)"
   ]
  },
  {
   "cell_type": "code",
   "execution_count": 10,
   "metadata": {},
   "outputs": [
    {
     "name": "stderr",
     "output_type": "stream",
     "text": [
      "C:\\Users\\ligita\\Anaconda3\\lib\\site-packages\\ipykernel_launcher.py:3: DataConversionWarning: A column-vector y was passed when a 1d array was expected. Please change the shape of y to (n_samples,), for example using ravel().\n",
      "  This is separate from the ipykernel package so we can avoid doing imports until\n"
     ]
    },
    {
     "name": "stdout",
     "output_type": "stream",
     "text": [
      "Random Forest Score:  100.0\n",
      "Random Forest Test Score:  69.14\n",
      "Accuracy:  0.6914285714285714\n",
      "\n",
      "Classification report: \n",
      "               precision    recall  f1-score   support\n",
      "\n",
      "           1       0.73      0.90      0.81       125\n",
      "           2       0.41      0.18      0.25        50\n",
      "\n",
      "    accuracy                           0.69       175\n",
      "   macro avg       0.57      0.54      0.53       175\n",
      "weighted avg       0.64      0.69      0.65       175\n",
      "\n",
      "Confusion Matrix:\n",
      "      0   1\n",
      "0  112  13\n",
      "1   41   9\n"
     ]
    },
    {
     "data": {
      "image/png": "[encoded data removed]",
      "text/plain": [
       "<Figure size 432x288 with 2 Axes>"
      ]
     },
     "metadata": {
      "needs_background": "light"
     },
     "output_type": "display_data"
    }
   ],
   "source": [
    "#np.random.seed(150)\n",
    "rf = RandomForestClassifier(n_estimators=100, random_state=150)\n",
    "rf.fit(X_train, y_train)\n",
    "rf_predicted = rf.predict(X_test)\n",
    "\n",
    "random_forest_score      = round(rf.score(X_train, y_train) * 100, 2)\n",
    "random_forest_score_test = round(rf.score(X_test, y_test) * 100, 2)\n",
    "\n",
    "\n",
    "print('Random Forest Score: ', random_forest_score)\n",
    "print('Random Forest Test Score: ', random_forest_score_test)\n",
    "print('Accuracy: ', accuracy_score(y_test,rf_predicted))\n",
    "print('\\nClassification report: \\n', classification_report(y_test,rf_predicted))\n",
    "cm=pd.DataFrame(confusion_matrix(y_test,rf_predicted))\n",
    "print(\"Confusion Matrix:\\n\", cm)\n",
    "\n",
    "\n",
    "g = sns.heatmap(confusion_matrix(y_test,rf_predicted), annot=True, fmt=\"d\")"
   ]
  },
  {
   "cell_type": "markdown",
   "metadata": {},
   "source": [
    "# Feature importance"
   ]
  },
  {
   "cell_type": "code",
   "execution_count": 36,
   "metadata": {},
   "outputs": [
    {
     "data": {
      "text/html": [
       "<div>\n",
       "<style scoped>\n",
       "    .dataframe tbody tr th:only-of-type {\n",
       "        vertical-align: middle;\n",
       "    }\n",
       "\n",
       "    .dataframe tbody tr th {\n",
       "        vertical-align: top;\n",
       "    }\n",
       "\n",
       "    .dataframe thead th {\n",
       "        text-align: right;\n",
       "    }\n",
       "</style>\n",
       "<table border=\"1\" class=\"dataframe\">\n",
       "  <thead>\n",
       "    <tr style=\"text-align: right;\">\n",
       "      <th></th>\n",
       "      <th>0</th>\n",
       "    </tr>\n",
       "  </thead>\n",
       "  <tbody>\n",
       "    <tr>\n",
       "      <td>Age</td>\n",
       "      <td>0.113369</td>\n",
       "    </tr>\n",
       "    <tr>\n",
       "      <td>Gender</td>\n",
       "      <td>0.111641</td>\n",
       "    </tr>\n",
       "    <tr>\n",
       "      <td>Total_Bilirubin</td>\n",
       "      <td>0.086220</td>\n",
       "    </tr>\n",
       "    <tr>\n",
       "      <td>Direct_Bilirubin</td>\n",
       "      <td>0.157371</td>\n",
       "    </tr>\n",
       "    <tr>\n",
       "      <td>Alkaline_Phosphotase</td>\n",
       "      <td>0.125089</td>\n",
       "    </tr>\n",
       "    <tr>\n",
       "      <td>Alamine_Aminotransferase</td>\n",
       "      <td>0.122151</td>\n",
       "    </tr>\n",
       "    <tr>\n",
       "      <td>Aspartate_Aminotransferase</td>\n",
       "      <td>0.083854</td>\n",
       "    </tr>\n",
       "    <tr>\n",
       "      <td>Total_Protiens</td>\n",
       "      <td>0.098758</td>\n",
       "    </tr>\n",
       "    <tr>\n",
       "      <td>Albumin</td>\n",
       "      <td>0.084687</td>\n",
       "    </tr>\n",
       "    <tr>\n",
       "      <td>Albumin_and_Globulin_Ratio</td>\n",
       "      <td>0.016860</td>\n",
       "    </tr>\n",
       "  </tbody>\n",
       "</table>\n",
       "</div>"
      ],
      "text/plain": [
       "                                   0\n",
       "Age                         0.113369\n",
       "Gender                      0.111641\n",
       "Total_Bilirubin             0.086220\n",
       "Direct_Bilirubin            0.157371\n",
       "Alkaline_Phosphotase        0.125089\n",
       "Alamine_Aminotransferase    0.122151\n",
       "Aspartate_Aminotransferase  0.083854\n",
       "Total_Protiens              0.098758\n",
       "Albumin                     0.084687\n",
       "Albumin_and_Globulin_Ratio  0.016860"
      ]
     },
     "execution_count": 36,
     "metadata": {},
     "output_type": "execute_result"
    }
   ],
   "source": [
    "pd.DataFrame(rf.feature_importances_,\n",
    "             index=liver_patient.drop('Liver_Disease', axis=1).columns)"
   ]
  },
  {
   "cell_type": "code",
   "execution_count": 38,
   "metadata": {},
   "outputs": [
    {
     "data": {
      "text/plain": [
       "<matplotlib.axes._subplots.AxesSubplot at 0x15dcd5fe7c8>"
      ]
     },
     "execution_count": 38,
     "metadata": {},
     "output_type": "execute_result"
    },
    {
     "data": {
      "image/png": "[encoded data removed]",
      "text/plain": [
       "<Figure size 1080x864 with 1 Axes>"
      ]
     },
     "metadata": {
      "needs_background": "light"
     },
     "output_type": "display_data"
    }
   ],
   "source": [
    "variable_importance=pd.DataFrame(rf.feature_importances_,columns=['coeficient'],\n",
    "             index=liver_patient.drop('Liver_Disease', axis=1).columns)\n",
    "variable_importance.sort_values(by = [\"coeficient\"]).plot(kind='barh', figsize=(15,12))"
   ]
  },
  {
   "cell_type": "markdown",
   "metadata": {},
   "source": [
    "# Decision Trees"
   ]
  },
  {
   "cell_type": "code",
   "execution_count": 39,
   "metadata": {},
   "outputs": [
    {
     "data": {
      "text/plain": [
       "DecisionTreeClassifier(class_weight=None, criterion='gini', max_depth=None,\n",
       "                       max_features=None, max_leaf_nodes=None,\n",
       "                       min_impurity_decrease=0.0, min_impurity_split=None,\n",
       "                       min_samples_leaf=1, min_samples_split=2,\n",
       "                       min_weight_fraction_leaf=0.0, presort=False,\n",
       "                       random_state=None, splitter='best')"
      ]
     },
     "execution_count": 39,
     "metadata": {},
     "output_type": "execute_result"
    }
   ],
   "source": [
    "from sklearn.tree import DecisionTreeClassifier\n",
    "# Create decision tree object\n",
    "classifier = DecisionTreeClassifier()\n",
    "\n",
    "# Train the model using the training sets and check score\n",
    "classifier.fit(X_train,y_train)"
   ]
  },
  {
   "cell_type": "code",
   "execution_count": 40,
   "metadata": {},
   "outputs": [
    {
     "name": "stdout",
     "output_type": "stream",
     "text": [
      "Decision tree Score:  100.0\n",
      "Decision tree Test Score:  73.14\n",
      "Accuracy:  0.6685714285714286\n",
      "Confusion matrix\n",
      " [[101  24]\n",
      " [ 34  16]] \n",
      "\n",
      "Confusion matrix plot\n"
     ]
    },
    {
     "data": {
      "image/png": "[encoded data removed]",
      "text/plain": [
       "<Figure size 288x288 with 2 Axes>"
      ]
     },
     "metadata": {
      "needs_background": "light"
     },
     "output_type": "display_data"
    },
    {
     "name": "stdout",
     "output_type": "stream",
     "text": [
      "Classfication report:               precision    recall  f1-score   support\n",
      "\n",
      "           1       0.75      0.81      0.78       125\n",
      "           2       0.40      0.32      0.36        50\n",
      "\n",
      "    accuracy                           0.67       175\n",
      "   macro avg       0.57      0.56      0.57       175\n",
      "weighted avg       0.65      0.67      0.66       175\n",
      "\n"
     ]
    }
   ],
   "source": [
    "# Predict Output\n",
    "\n",
    "y_pred=classifier.predict(X_test)\n",
    "\n",
    "dt_score = round(classifier.score(X_train, y_train) * 100, 2)\n",
    "dt_test = round(classifier.score(X_test, y_test) * 100, 2)\n",
    "\n",
    "decision_tree_score      = round(rf.score(X_train, y_train) * 100, 2)\n",
    "decision_tree_score_test = round(rf.score(X_test, y_test) * 100, 2)\n",
    "\n",
    "print('Decision tree Score: ', decision_tree_score)\n",
    "print('Decision tree Test Score: ', decision_tree_score_test)\n",
    "print('Accuracy: ', accuracy_score(y_test,y_pred))\n",
    "\n",
    "c_m = confusion_matrix(y_test, y_pred)\n",
    "print (\"Confusion matrix\\n\", c_m,'\\n')\n",
    "ax=plt.matshow(c_m,cmap=plt.cm.GnBu)\n",
    "print('Confusion matrix plot')\n",
    "plt.colorbar(ax)\n",
    "plt.xlabel('Predicted')\n",
    "plt.ylabel('True')\n",
    "plt.show()\n",
    "\n",
    "\n",
    "print('Classfication report:',classification_report(y_test, y_pred)) \n"
   ]
  },
  {
   "cell_type": "code",
   "execution_count": null,
   "metadata": {},
   "outputs": [],
   "source": []
  },
  {
   "cell_type": "code",
   "execution_count": null,
   "metadata": {},
   "outputs": [],
   "source": []
  }
 ],
 "metadata": {
  "kernelspec": {
   "display_name": "Python 3",
   "language": "python",
   "name": "python3"
  },
  "language_info": {
   "codemirror_mode": {
    "name": "ipython",
    "version": 3
   },
   "file_extension": ".py",
   "mimetype": "text/x-python",
   "name": "python",
   "nbconvert_exporter": "python",
   "pygments_lexer": "ipython3",
   "version": "3.7.4"
  }
 },
 "nbformat": 4,
 "nbformat_minor": 2
}
